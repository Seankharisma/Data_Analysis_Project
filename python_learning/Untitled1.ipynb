{
 "cells": [
  {
   "cell_type": "code",
   "execution_count": 1,
   "id": "d983acc1",
   "metadata": {},
   "outputs": [
    {
     "name": "stdout",
     "output_type": "stream",
     "text": [
      "hello world!!!\n"
     ]
    }
   ],
   "source": [
    "print(\"hello world!!!\")"
   ]
  },
  {
   "cell_type": "code",
   "execution_count": 2,
   "id": "b4b9f69a",
   "metadata": {
    "scrolled": true
   },
   "outputs": [
    {
     "name": "stdout",
     "output_type": "stream",
     "text": [
      "-22\n"
     ]
    }
   ],
   "source": [
    "a=23\n",
    "b=45\n",
    "c = True\n",
    "print(a-b)"
   ]
  },
  {
   "cell_type": "code",
   "execution_count": 5,
   "id": "2db55219",
   "metadata": {
    "jupyter": {
     "source_hidden": true
    },
    "tags": []
   },
   "outputs": [
    {
     "name": "stdout",
     "output_type": "stream",
     "text": [
      "cnt= 500500\n"
     ]
    }
   ],
   "source": [
    "cnt=0\n",
    "for i in range(1001):\n",
    "    cnt += i\n",
    "    #print(i)\n",
    "    \n",
    "\n",
    "print(\"cnt=\",cnt)"
   ]
  },
  {
   "cell_type": "markdown",
   "id": "317a59dc",
   "metadata": {
    "tags": []
   },
   "source": [
    "# 常用函数"
   ]
  },
  {
   "cell_type": "code",
   "execution_count": 6,
   "id": "633ef76d",
   "metadata": {},
   "outputs": [
    {
     "name": "stdout",
     "output_type": "stream",
     "text": [
      "dd\n",
      "name= dd\n"
     ]
    }
   ],
   "source": [
    "#输入函数\n",
    "name = input()\n",
    "print(\"name=\",name)"
   ]
  },
  {
   "cell_type": "code",
   "execution_count": 3,
   "id": "45140468",
   "metadata": {},
   "outputs": [
    {
     "name": "stdout",
     "output_type": "stream",
     "text": [
      "<class 'int'>\n"
     ]
    }
   ],
   "source": [
    "#判断变量类型\n",
    "print(type(a))"
   ]
  },
  {
   "cell_type": "code",
   "execution_count": 14,
   "id": "8ffafbdb",
   "metadata": {},
   "outputs": [
    {
     "name": "stdout",
     "output_type": "stream",
     "text": [
      "format的使用:参数1:kevin 参数2:hellow kevin\n",
      "nnnnnn e\n",
      "['1', '2', '3', '43', '4', '5', '65', '6']\n",
      "\n",
      "\n",
      "-kevin9kevin9kevin-\n",
      "  sadjg  \n",
      "sadjg\n"
     ]
    }
   ],
   "source": [
    "#字符串处理\n",
    "para1 = \"kevin\"\n",
    "\n",
    "## .format的使用\n",
    "para12 = \"hellow {}\".format(para1)\n",
    "\n",
    "print(\"format的使用:参数1:{} 参数2:{}\".format(para1,para12))\n",
    "\n",
    "\n",
    "#[:]字符串的截取\n",
    "\n",
    "print(\"\"\"nnnnnn\"\"\",para1[1:2])\n",
    "\n",
    "#分割 .split\n",
    "test2 = \"1-2-3-43-4-5-65-6\"\n",
    "\n",
    "print(test2.split(\"-\"))\n",
    "\n",
    "#.join 字符串合并\n",
    "test90=\"-99-\"\n",
    "test3=para1.join(test90)\n",
    "\n",
    "print(\"\\n\")\n",
    "print(test3)\n",
    "\n",
    "#头尾空白去除\n",
    "messageTest=\"  sadjg  \"\n",
    "print(messageTest)\n",
    "print(messageTest.strip())\n",
    "\n",
    "\n",
    "\n",
    "\n",
    " "
   ]
  },
  {
   "cell_type": "code",
   "execution_count": null,
   "id": "8bf1a23b",
   "metadata": {},
   "outputs": [],
   "source": []
  },
  {
   "cell_type": "code",
   "execution_count": null,
   "id": "7014e295",
   "metadata": {},
   "outputs": [],
   "source": []
  },
  {
   "cell_type": "code",
   "execution_count": null,
   "id": "1595592a",
   "metadata": {},
   "outputs": [],
   "source": []
  },
  {
   "cell_type": "code",
   "execution_count": null,
   "id": "3ff5cb5d",
   "metadata": {},
   "outputs": [],
   "source": []
  },
  {
   "cell_type": "code",
   "execution_count": null,
   "id": "270ab84e",
   "metadata": {},
   "outputs": [],
   "source": []
  },
  {
   "cell_type": "code",
   "execution_count": null,
   "id": "159be65e",
   "metadata": {},
   "outputs": [],
   "source": []
  }
 ],
 "metadata": {
  "celltoolbar": "原始单元格格式",
  "kernelspec": {
   "display_name": "Python 3 (ipykernel)",
   "language": "python",
   "name": "python3"
  },
  "language_info": {
   "codemirror_mode": {
    "name": "ipython",
    "version": 3
   },
   "file_extension": ".py",
   "mimetype": "text/x-python",
   "name": "python",
   "nbconvert_exporter": "python",
   "pygments_lexer": "ipython3",
   "version": "3.9.13"
  },
  "toc-autonumbering": true,
  "toc-showmarkdowntxt": true,
  "varInspector": {
   "cols": {
    "lenName": 16,
    "lenType": 16,
    "lenVar": 40
   },
   "kernels_config": {
    "python": {
     "delete_cmd_postfix": "",
     "delete_cmd_prefix": "del ",
     "library": "var_list.py",
     "varRefreshCmd": "print(var_dic_list())"
    },
    "r": {
     "delete_cmd_postfix": ") ",
     "delete_cmd_prefix": "rm(",
     "library": "var_list.r",
     "varRefreshCmd": "cat(var_dic_list()) "
    }
   },
   "types_to_exclude": [
    "module",
    "function",
    "builtin_function_or_method",
    "instance",
    "_Feature"
   ],
   "window_display": false
  }
 },
 "nbformat": 4,
 "nbformat_minor": 5
}
